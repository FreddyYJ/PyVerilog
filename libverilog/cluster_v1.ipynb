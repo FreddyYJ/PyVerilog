{
 "cells": [
  {
   "cell_type": "code",
   "execution_count": 1,
   "id": "dd38a628-3f73-4799-8260-ea735add8ed8",
   "metadata": {},
   "outputs": [],
   "source": [
    "import numpy as np\n",
    "import matplotlib.pyplot as plt\n",
    "import serial\n",
    "\n",
    "x_list = [41, 51, 182, 245, 249, 186, 154, 108, 136, 187, 29, 64, 208, 11, 5, 31, 134, 223, 194, 62, 124, 82, 166, 224, 113, 15, 30, 46, 68, 177, 33, 38, 52, 52, 239, 175, 250, 112, 169, 152, 108, 131, 234, 194, 116, 241, 23, 208, 140, 7]\n",
    "y_list = [245, 63, 147, 21, 188, 236, 38, 59, 86, 130, 240, 164, 196, 89, 17, 34, 106, 213, 108, 210, 108, 188, 133, 32, 0, 152, 189, 49, 44, 127, 185, 159, 236, 40, 171, 1, 160, 174, 10, 149, 47, 6, 162, 199, 100, 228, 57, 200, 75, 194]\n",
    "data = [(41, 245), (51, 63), (182, 147), (245, 21), (249, 188), (186, 236), (154, 38), (108, 59), (136, 86), (187, 130), (29, 240), (64, 164), (208, 196), (11, 89), (5, 17), (31, 34), (134, 106), (223, 213), (194, 108), (62, 210), (124, 108), (82, 188), (166, 133), (224, 32), (113, 0), (15, 152), (30, 189), (46, 49), (68, 44), (177, 127), (33, 185), (38, 159), (52, 236), (52, 40), (239, 171), (175, 1), (250, 160), (112, 174), (169, 10), (152, 149), (108, 47), (131, 6), (234, 162), (194, 199), (116, 100), (241, 228), (23, 57), (208, 200), (140, 75), (7, 194)]"
   ]
  },
  {
   "cell_type": "code",
   "execution_count": 2,
   "id": "ad04c4cb-20d0-4e8a-bb4c-9117d0e1c9ab",
   "metadata": {},
   "outputs": [
    {
     "data": {
      "text/plain": [
       "[<matplotlib.lines.Line2D at 0x217bf664a00>]"
      ]
     },
     "execution_count": 2,
     "metadata": {},
     "output_type": "execute_result"
    },
    {
     "data": {
      "image/png": "[encoded data removed]",
      "text/plain": [
       "<Figure size 432x288 with 1 Axes>"
      ]
     },
     "metadata": {
      "needs_background": "light"
     },
     "output_type": "display_data"
    }
   ],
   "source": [
    "plt.plot(x_list, y_list, 'k.')"
   ]
  },
  {
   "cell_type": "code",
   "execution_count": 3,
   "id": "11b16213-9556-492e-bc3d-0c7811127578",
   "metadata": {},
   "outputs": [
    {
     "name": "stdout",
     "output_type": "stream",
     "text": [
      "[[ 41 245]\n",
      " [ 51  63]\n",
      " [182 147]\n",
      " [245  21]\n",
      " [249 188]\n",
      " [186 236]\n",
      " [154  38]\n",
      " [108  59]\n",
      " [136  86]\n",
      " [187 130]\n",
      " [ 29 240]\n",
      " [ 64 164]\n",
      " [208 196]\n",
      " [ 11  89]\n",
      " [  5  17]\n",
      " [ 31  34]\n",
      " [134 106]\n",
      " [223 213]\n",
      " [194 108]\n",
      " [ 62 210]\n",
      " [124 108]\n",
      " [ 82 188]\n",
      " [166 133]\n",
      " [224  32]\n",
      " [113   0]\n",
      " [ 15 152]\n",
      " [ 30 189]\n",
      " [ 46  49]\n",
      " [ 68  44]\n",
      " [177 127]\n",
      " [ 33 185]\n",
      " [ 38 159]\n",
      " [ 52 236]\n",
      " [ 52  40]\n",
      " [239 171]\n",
      " [175   1]\n",
      " [250 160]\n",
      " [112 174]\n",
      " [169  10]\n",
      " [152 149]\n",
      " [108  47]\n",
      " [131   6]\n",
      " [234 162]\n",
      " [194 199]\n",
      " [116 100]\n",
      " [241 228]\n",
      " [ 23  57]\n",
      " [208 200]\n",
      " [140  75]\n",
      " [  7 194]]\n"
     ]
    }
   ],
   "source": [
    "transmit_data = np.array(data, dtype=np.uint8)\n",
    "print((transmit_data))"
   ]
  },
  {
   "cell_type": "code",
   "execution_count": null,
   "id": "def80977-5f20-4223-a2c0-ac0272729145",
   "metadata": {},
   "outputs": [],
   "source": [
    "test = serial.Serial(\"COM4\",115200)\n",
    "test.write(transmit_data)"
   ]
  },
  {
   "cell_type": "code",
   "execution_count": null,
   "id": "339c6e45-d59e-4022-ac9e-9e8c0daa96fc",
   "metadata": {},
   "outputs": [],
   "source": [
    "result=[]\n",
    "for l in range(309):\n",
    "    result.append(int.from_bytes(test.read(),byteorder='big'))"
   ]
  },
  {
   "cell_type": "code",
   "execution_count": null,
   "id": "4b57492b-014b-4e8e-af7c-666da744d406",
   "metadata": {},
   "outputs": [],
   "source": [
    "C1_size = result[-3]\n",
    "C2_size = result[-2]\n",
    "C3_size = result[-1]\n",
    "\n",
    "C1_out_x = []\n",
    "C1_out_y = []\n",
    "C2_out_x = []\n",
    "C2_out_y = []\n",
    "C3_out_x = []\n",
    "C3_out_y = []\n",
    "\n",
    "for i in range(C1_size):\n",
    "    C1_out_x.append(result[2*i])\n",
    "    C1_out_y.append(result[2*i + 1])\n",
    "for i in range(C2_size):\n",
    "    C2_out_x.append(result[100 + 2*i])\n",
    "    C2_out_y.append(result[100 + 2*i + 1])\n",
    "for i in range(C3_size):\n",
    "    C3_out_x.append(result[200 + 2*i])\n",
    "    C3_out_y.append(result[200 + 2*i + 1])\n",
    "\n",
    "centroid_1_x = result[300]\n",
    "centroid_1_y = result[301]\n",
    "centroid_2_x = result[302]\n",
    "centroid_2_y = result[303]\n",
    "centroid_3_x = result[304]\n",
    "centroid_3_y = result[305]\n",
    "    \n",
    "plt.plot(C1_out_x, C1_out_y, 'r.', C2_out_x, C2_out_y, 'g.', C3_out_x, C3_out_y, 'b.', result[300], result[301], 'rx', result[302], result[303], 'gx', result[304], result[305], 'bx')"
   ]
  }
 ],
 "metadata": {
  "kernelspec": {
   "display_name": "Python 3 (ipykernel)",
   "language": "python",
   "name": "python3"
  },
  "language_info": {
   "codemirror_mode": {
    "name": "ipython",
    "version": 3
   },
   "file_extension": ".py",
   "mimetype": "text/x-python",
   "name": "python",
   "nbconvert_exporter": "python",
   "pygments_lexer": "ipython3",
   "version": "3.9.12"
  }
 },
 "nbformat": 4,
 "nbformat_minor": 5
}
